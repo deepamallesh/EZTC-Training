{
 "cells": [
  {
   "cell_type": "code",
   "execution_count": 1,
   "id": "73996f08",
   "metadata": {},
   "outputs": [],
   "source": [
    "class node:\n",
    "    def __init__(self,data):\n",
    "        self.data=data\n",
    "        self.next=None\n",
    "\n",
    "def display():\n",
    "    curr=root\n",
    "    while(curr!=None):\n",
    "        print(curr.data)\n",
    "        curr=curr.next\n",
    "root=node(1)\n",
    "root.next=node(2)\n",
    "root.next.next=node(3)\n"
   ]
  },
  {
   "cell_type": "code",
   "execution_count": 2,
   "id": "59400525",
   "metadata": {},
   "outputs": [
    {
     "name": "stdout",
     "output_type": "stream",
     "text": [
      "3\n",
      "3\n",
      "1\n",
      "2\n",
      "3\n"
     ]
    }
   ],
   "source": [
    "def front_insert():\n",
    "    global root\n",
    "    ele=int(input())\n",
    "    temp=node(ele)\n",
    "    temp.next=root\n",
    "    root=temp\n",
    "\n",
    "front_insert()\n",
    "display()\n",
    "    \n",
    "    \n",
    "    "
   ]
  },
  {
   "cell_type": "code",
   "execution_count": 7,
   "id": "1a6ad6bb",
   "metadata": {},
   "outputs": [
    {
     "name": "stdout",
     "output_type": "stream",
     "text": [
      "89\n",
      "67\n",
      "1\n",
      "2\n",
      "3\n",
      "89\n"
     ]
    }
   ],
   "source": [
    "def end_insert():\n",
    "    global root\n",
    "    ele=int(input())\n",
    "    temp=node(ele)\n",
    "    curr=root\n",
    "    while(curr.next!=None):\n",
    "        curr=curr.next\n",
    "    curr.next=temp\n",
    "end_insert()\n",
    "display()"
   ]
  },
  {
   "cell_type": "code",
   "execution_count": 3,
   "id": "4c81adf9",
   "metadata": {},
   "outputs": [
    {
     "name": "stdout",
     "output_type": "stream",
     "text": [
      "2\n",
      "55\n",
      "1\n",
      "2\n",
      "55\n",
      "3\n"
     ]
    }
   ],
   "source": [
    "class node:\n",
    "    def __init__(self,data):\n",
    "        self.data=data\n",
    "        self.next=None\n",
    "\n",
    "def display():\n",
    "    curr=root\n",
    "    while(curr!=None):\n",
    "        print(curr.data)\n",
    "        curr=curr.next\n",
    "root=node(1)\n",
    "root.next=node(2)\n",
    "root.next.next=node(3)\n",
    "def insert_midlle_after():\n",
    "    global root\n",
    "    pos=int(input())\n",
    "    ele=int(input())\n",
    "    temp=node(ele)\n",
    "    curr=root\n",
    "    while(curr!=None):\n",
    "        if (pos==curr.data):\n",
    "                temp1=curr.next\n",
    "                temp.next=temp1\n",
    "                curr.next=temp\n",
    "                break\n",
    "        curr=curr.next\n",
    "insert_midlle() \n",
    "display()"
   ]
  },
  {
   "cell_type": "code",
   "execution_count": 9,
   "id": "ea66056a",
   "metadata": {},
   "outputs": [
    {
     "name": "stdout",
     "output_type": "stream",
     "text": [
      "3\n",
      "56\n",
      "1\n",
      "2\n",
      "56\n",
      "3\n"
     ]
    }
   ],
   "source": [
    "class node:\n",
    "    def __init__(self,data):\n",
    "        self.data=data\n",
    "        self.next=None\n",
    "\n",
    "def display():\n",
    "    curr=root\n",
    "    while(curr!=None):\n",
    "        print(curr.data)\n",
    "        curr=curr.next\n",
    "root=node(1)\n",
    "root.next=node(2)\n",
    "root.next.next=node(3)\n",
    "def insert_midlle_before():\n",
    "    global root\n",
    "    pos=int(input())\n",
    "    ele=int(input())\n",
    "    temp=node(ele)\n",
    "    curr=root\n",
    "    while(curr!=None):\n",
    "        if (pos==curr.data):\n",
    "                prev.next=temp\n",
    "                temp.next=curr\n",
    "                break\n",
    "        prev=curr\n",
    "        curr=curr.next\n",
    "insert_midlle_before()\n",
    "display()"
   ]
  },
  {
   "cell_type": "markdown",
   "id": "6f79d740",
   "metadata": {},
   "source": [
    "### deleting"
   ]
  },
  {
   "cell_type": "code",
   "execution_count": 12,
   "id": "dfa40614",
   "metadata": {},
   "outputs": [
    {
     "name": "stdout",
     "output_type": "stream",
     "text": [
      "deleted element is 1\n",
      "2\n",
      "3\n"
     ]
    }
   ],
   "source": [
    "class node:\n",
    "    def __init__(self,data):\n",
    "        self.data=data\n",
    "        self.next=None\n",
    "\n",
    "def display():\n",
    "    curr=root\n",
    "    while(curr!=None):\n",
    "        print(curr.data)\n",
    "        curr=curr.next\n",
    "root=node(1)\n",
    "root.next=node(2)\n",
    "root.next.next=node(3)\n",
    "def delete_front():\n",
    "    global root\n",
    "    curr=root\n",
    "    print(\"deleted element is\",curr.data)\n",
    "    root=curr.next\n",
    "\n",
    "delete_front()\n",
    "display()"
   ]
  },
  {
   "cell_type": "code",
   "execution_count": 25,
   "id": "38c6b23e",
   "metadata": {},
   "outputs": [
    {
     "name": "stdout",
     "output_type": "stream",
     "text": [
      "deleted element is 9\n",
      "1\n",
      "2\n"
     ]
    }
   ],
   "source": [
    "class node:\n",
    "    def __init__(self,data):\n",
    "        self.data=data\n",
    "        self.next=None\n",
    "\n",
    "def display():\n",
    "    curr=root\n",
    "    while(curr!=None):\n",
    "        print(curr.data)\n",
    "        curr=curr.next\n",
    "root=node(1)\n",
    "root.next=node(2)\n",
    "root.next.next=node(9)\n",
    "def delete_end():\n",
    "    global root\n",
    "    curr=root\n",
    "    prev=curr\n",
    "    while(curr.next!=None):\n",
    "        prev=curr\n",
    "        curr=curr.next\n",
    "            \n",
    "    print(\"deleted element is\",curr.data)\n",
    "    prev.next=None\n",
    "delete_end()\n",
    "display()"
   ]
  },
  {
   "cell_type": "code",
   "execution_count": 31,
   "id": "f42bbae4",
   "metadata": {},
   "outputs": [
    {
     "name": "stdout",
     "output_type": "stream",
     "text": [
      "9\n",
      "deleted element is 2\n",
      "1\n",
      "9\n"
     ]
    }
   ],
   "source": [
    "class node:\n",
    "    def __init__(self,data):\n",
    "        self.data=data\n",
    "        self.next=None\n",
    "\n",
    "def display():\n",
    "    curr=root\n",
    "    while(curr!=None):\n",
    "        print(curr.data)\n",
    "        curr=curr.next\n",
    "root=node(1)\n",
    "root.next=node(2)\n",
    "root.next.next=node(9)\n",
    "def delete_middle_before():\n",
    "    global root\n",
    "    pos=int(input())\n",
    "    curr=root\n",
    "    while(curr.next!=None):\n",
    "        if (pos==curr.next.data):\n",
    "                temp.next=curr.next\n",
    "                print(\"deleted element is\",curr.data)\n",
    "                break\n",
    "        temp=curr\n",
    "        curr=curr.next\n",
    "\n",
    "delete_middle_before() \n",
    "display()"
   ]
  },
  {
   "cell_type": "code",
   "execution_count": 33,
   "id": "571ea149",
   "metadata": {},
   "outputs": [
    {
     "name": "stdout",
     "output_type": "stream",
     "text": [
      "2\n",
      "deleted element is 9\n",
      "1\n",
      "2\n"
     ]
    }
   ],
   "source": [
    "class node:\n",
    "    def __init__(self,data):\n",
    "        self.data=data\n",
    "        self.next=None\n",
    "\n",
    "def display():\n",
    "    curr=root\n",
    "    while(curr!=None):\n",
    "        print(curr.data)\n",
    "        curr=curr.next\n",
    "root=node(1)\n",
    "root.next=node(2)\n",
    "root.next.next=node(9)\n",
    "def delete_middle_before():\n",
    "    global root\n",
    "    pos=int(input())\n",
    "    curr=root\n",
    "    while(curr.next!=None):\n",
    "        if (pos==curr.data):\n",
    "                temp=curr.next\n",
    "                temp1=temp.next\n",
    "                curr.next=temp1\n",
    "                print(\"deleted element is\",temp.data)\n",
    "                break\n",
    "        curr=curr.next\n",
    "\n",
    "delete_middle_before() \n",
    "display()"
   ]
  },
  {
   "cell_type": "code",
   "execution_count": 35,
   "id": "3efa3102",
   "metadata": {},
   "outputs": [
    {
     "name": "stdout",
     "output_type": "stream",
     "text": [
      "2\n",
      "deleted element is 2\n",
      "1\n",
      "9\n"
     ]
    }
   ],
   "source": [
    "class node:\n",
    "    def __init__(self,data):\n",
    "        self.data=data\n",
    "        self.next=None\n",
    "\n",
    "def display():\n",
    "    curr=root\n",
    "    while(curr!=None):\n",
    "        print(curr.data)\n",
    "        curr=curr.next\n",
    "root=node(1)\n",
    "root.next=node(2)\n",
    "root.next.next=node(9)\n",
    "def delete_middle_before():\n",
    "    global root\n",
    "    pos=int(input())\n",
    "    curr=root\n",
    "    while(curr.next!=None):\n",
    "        if (pos==curr.data):\n",
    "                temp=curr.next\n",
    "                prev.next=temp\n",
    "                print(\"deleted element is\",curr.data)\n",
    "                break\n",
    "        prev=curr\n",
    "        curr=curr.next\n",
    "\n",
    "delete_middle_before() \n",
    "display()"
   ]
  },
  {
   "cell_type": "code",
   "execution_count": 39,
   "id": "5d2c87db",
   "metadata": {},
   "outputs": [
    {
     "name": "stdout",
     "output_type": "stream",
     "text": [
      "9\n",
      "2\n",
      "1\n"
     ]
    }
   ],
   "source": [
    "class node:\n",
    "    def __init__(self,data):\n",
    "        self.data=data\n",
    "        self.next=None\n",
    "\n",
    "def display():\n",
    "    curr=root\n",
    "    while(curr!=None):\n",
    "        print(curr.data)\n",
    "        curr=curr.next\n",
    "root=node(1)\n",
    "root.next=node(2)\n",
    "root.next.next=node(9)\n",
    "def revse_linkedlist():\n",
    "    global root\n",
    "    curr=root\n",
    "    prev=None\n",
    "    while(curr!=None):\n",
    "        temp=curr.next\n",
    "        curr.next=prev\n",
    "        prev=curr\n",
    "        curr=temp\n",
    "    root=prev\n",
    "revse_linkedlist() \n",
    "display()"
   ]
  },
  {
   "cell_type": "markdown",
   "id": "d4a4d471",
   "metadata": {},
   "source": [
    "### Finding the middle of LinkedList"
   ]
  },
  {
   "cell_type": "code",
   "execution_count": 63,
   "id": "17c3b384",
   "metadata": {},
   "outputs": [
    {
     "name": "stdout",
     "output_type": "stream",
     "text": [
      "[1, 2, 9, 4, 5, 6]\n",
      "4\n"
     ]
    }
   ],
   "source": [
    "class node:\n",
    "    def __init__(self,data):\n",
    "        self.data=data\n",
    "        self.next=None\n",
    "\n",
    "def display():\n",
    "    curr=root\n",
    "    while(curr!=None):\n",
    "        print(curr.data)\n",
    "        curr=curr.next\n",
    "root=node(1)\n",
    "root.next=node(2)\n",
    "root.next.next=node(9)\n",
    "root.next.next.next=node(4)\n",
    "root.next.next.next.next=node(5)\n",
    "root.next.next.next.next.next=node(6)\n",
    "def middle_linked_list():\n",
    "    v=[]\n",
    "    curr=root\n",
    "    while(curr!=None):\n",
    "        v.append(curr.data)\n",
    "        curr=curr.next\n",
    "    return v\n",
    "v=middle_linked_list()\n",
    "print(v)\n",
    "mid=len(v)//2\n",
    "print(v[mid])"
   ]
  },
  {
   "cell_type": "code",
   "execution_count": 1,
   "id": "7db0929f",
   "metadata": {},
   "outputs": [
    {
     "name": "stdout",
     "output_type": "stream",
     "text": [
      "4\n"
     ]
    }
   ],
   "source": [
    "class node:\n",
    "    def __init__(self, data):\n",
    "        self.data = data\n",
    "        self.next = None\n",
    "\n",
    "def find_middle(root):\n",
    "    slow = root\n",
    "    fast = root\n",
    "    \n",
    "    while fast is not None and fast.next is not None:\n",
    "        slow = slow.next\n",
    "        fast = fast.next.next\n",
    "    \n",
    "    return slow.data\n",
    "\n",
    "root = node(1)\n",
    "root.next = node(2)\n",
    "root.next.next = node(9)\n",
    "root.next.next.next = node(4)\n",
    "root.next.next.next.next = node(5)\n",
    "root.next.next.next.next.next = node(6)\n",
    "middle = find_middle(root)\n",
    "print(middle)\n"
   ]
  },
  {
   "cell_type": "code",
   "execution_count": null,
   "id": "7b733b31",
   "metadata": {},
   "outputs": [],
   "source": []
  }
 ],
 "metadata": {
  "kernelspec": {
   "display_name": "Python 3 (ipykernel)",
   "language": "python",
   "name": "python3"
  },
  "language_info": {
   "codemirror_mode": {
    "name": "ipython",
    "version": 3
   },
   "file_extension": ".py",
   "mimetype": "text/x-python",
   "name": "python",
   "nbconvert_exporter": "python",
   "pygments_lexer": "ipython3",
   "version": "3.11.5"
  }
 },
 "nbformat": 4,
 "nbformat_minor": 5
}
